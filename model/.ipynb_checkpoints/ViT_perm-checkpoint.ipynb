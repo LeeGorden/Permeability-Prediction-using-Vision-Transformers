{
 "cells": [
  {
   "cell_type": "code",
   "execution_count": 9,
   "metadata": {},
   "outputs": [],
   "source": [
    "import os\n",
    "import matplotlib.pyplot as plt\n",
    "from scipy.io import loadmat\n",
    "import time\n",
    "import torch\n",
    "from torch import nn\n",
    "# from ViT import ViT\n",
    "from torch.utils.data import Dataset, DataLoader, random_split\n",
    "import numpy as np\n",
    "import mat73"
   ]
  },
  {
   "cell_type": "code",
   "execution_count": 11,
   "metadata": {},
   "outputs": [],
   "source": [
    "# load file location\n",
    "project_root = os.path.abspath(os.path.join(os.getcwd(), \"..\"))\n",
    "data_root = os.path.join(project_root, \"Data\")"
   ]
  },
  {
   "cell_type": "code",
   "execution_count": null,
   "metadata": {},
   "outputs": [],
   "source": [
    "P_1_MPa = loadmat(\"P_1_MPa.mat\")\n",
    "P_2_MPa = loadmat(\"P_2_MPa.mat\")\n",
    "P_20_MPa = loadmat(\"P_20_MPa.mat\")"
   ]
  },
  {
   "cell_type": "code",
   "execution_count": 13,
   "metadata": {},
   "outputs": [],
   "source": [
    "# import wandb\n",
    "P_1_MPa = loadmat(os.path.join(data_root, \"Original Data\", \"Others\", \"P_1_MPa.mat\"))\n",
    "P_2_MPa = loadmat(os.path.join(data_root, \"Original Data\", \"Others\", \"P_2_MPa.mat\"))\n",
    "P_5_MPa = loadmat(os.path.join(data_root, \"Original Data\", \"Others\", \"P_5_MPa.mat\"))\n",
    "P_10_MPa = loadmat(os.path.join(data_root, \"Original Data\", \"Others\", \"P_10_MPa.mat\"))\n",
    "P_20_MPa = loadmat(os.path.join(data_root, \"Original Data\", \"Others\", \"P_20_MPa.mat\"))"
   ]
  },
  {
   "cell_type": "code",
   "execution_count": 8,
   "metadata": {},
   "outputs": [
    {
     "data": {
      "text/plain": [
       "dict_keys(['__header__', '__version__', '__globals__', 'ux', 'uy', 'uz', 'rho', 'mfp'])"
      ]
     },
     "execution_count": 8,
     "metadata": {},
     "output_type": "execute_result"
    }
   ],
   "source": [
    "P_1_MPa.keys()"
   ]
  },
  {
   "cell_type": "code",
   "execution_count": 14,
   "metadata": {},
   "outputs": [
    {
     "name": "stdout",
     "output_type": "stream",
     "text": [
      "3.3006920128358164e-09\n",
      "0.6601384025671633\n"
     ]
    }
   ],
   "source": [
    "sample1 = P_1_MPa['uz']  #3 D array of size 256**3, float for pore space and 0 fo solid space\n",
    "x1 = ~(sample1==0) #1 for pore space and 0 for solid space\n",
    "x1 = x1 * 1.0\n",
    "print(sample1.mean())\n",
    "y1 = sample1.mean()/5e-9 # perm, a floating point number\n",
    "print(y1)"
   ]
  },
  {
   "cell_type": "code",
   "execution_count": 15,
   "metadata": {},
   "outputs": [
    {
     "name": "stdout",
     "output_type": "stream",
     "text": [
      "1.5947099061148236e-09\n",
      "0.31894198122296474\n"
     ]
    }
   ],
   "source": [
    "sample1 = P_2_MPa['uz']  #3 D array of size 256**3, float for pore space and 0 fo solid space\n",
    "x1 = ~(sample1==0) #1 for pore space and 0 for solid space\n",
    "x1 = x1 * 1.0\n",
    "print(sample1.mean())\n",
    "y1 = sample1.mean()/5e-9 # perm, a floating point number\n",
    "print(y1)"
   ]
  },
  {
   "cell_type": "code",
   "execution_count": 16,
   "metadata": {},
   "outputs": [
    {
     "name": "stdout",
     "output_type": "stream",
     "text": [
      "7.73049556238383e-10\n",
      "0.1546099112476766\n"
     ]
    }
   ],
   "source": [
    "sample1 = P_5_MPa['uz']  #3 D array of size 256**3, float for pore space and 0 fo solid space\n",
    "x1 = ~(sample1==0) #1 for pore space and 0 for solid space\n",
    "x1 = x1 * 1.0\n",
    "print(sample1.mean())\n",
    "y1 = sample1.mean()/5e-9 # perm, a floating point number\n",
    "print(y1)"
   ]
  },
  {
   "cell_type": "code",
   "execution_count": 7,
   "metadata": {},
   "outputs": [
    {
     "data": {
      "text/plain": [
       "(256, 256, 256)"
      ]
     },
     "execution_count": 7,
     "metadata": {},
     "output_type": "execute_result"
    }
   ],
   "source": [
    "sample1.shape"
   ]
  },
  {
   "cell_type": "code",
   "execution_count": 8,
   "metadata": {},
   "outputs": [
    {
     "data": {
      "text/plain": [
       "1.383873081566912e-07"
      ]
     },
     "execution_count": 8,
     "metadata": {},
     "output_type": "execute_result"
    }
   ],
   "source": [
    "sample1[91, 100, 100]"
   ]
  },
  {
   "cell_type": "code",
   "execution_count": 9,
   "metadata": {},
   "outputs": [
    {
     "data": {
      "text/plain": [
       "1.0"
      ]
     },
     "execution_count": 9,
     "metadata": {},
     "output_type": "execute_result"
    }
   ],
   "source": [
    "x1[91, 100, 100]"
   ]
  },
  {
   "cell_type": "code",
   "execution_count": 10,
   "metadata": {},
   "outputs": [
    {
     "data": {
      "text/plain": [
       "<matplotlib.image.AxesImage at 0x26bcd31b220>"
      ]
     },
     "execution_count": 10,
     "metadata": {},
     "output_type": "execute_result"
    },
    {
     "data": {
      "image/png": "[encoded data removed]",
      "text/plain": [
       "<Figure size 640x480 with 1 Axes>"
      ]
     },
     "metadata": {},
     "output_type": "display_data"
    }
   ],
   "source": [
    "plt.imshow(x1[:,:,100])"
   ]
  },
  {
   "cell_type": "code",
   "execution_count": 11,
   "metadata": {},
   "outputs": [
    {
     "data": {
      "text/plain": [
       "0.6601384025671633"
      ]
     },
     "execution_count": 11,
     "metadata": {},
     "output_type": "execute_result"
    }
   ],
   "source": [
    "y1"
   ]
  },
  {
   "cell_type": "code",
   "execution_count": 12,
   "metadata": {},
   "outputs": [],
   "source": [
    "sample2 = P_2_MPa['uz']  \n",
    "x2 = ~(sample2==0) \n",
    "x2 = x2 * 1.0\n",
    "y2 = sample2.mean()/5e-9 \n",
    "\n",
    "sample3 = P_5_MPa['uz']  \n",
    "x3 = ~(sample3==0) \n",
    "x3 = x3 * 1.0\n",
    "y3 = sample3.mean()/5e-9 \n",
    "\n",
    "sample4 = P_10_MPa['uz']  \n",
    "x4 = ~(sample4==0) \n",
    "x4 = x4 * 1.0\n",
    "y4 = sample4.mean()/5e-9 \n",
    "\n",
    "sample5 = P_20_MPa['uz']  \n",
    "x5 = ~(sample5==0) \n",
    "x5 = x5 * 1.0\n",
    "y5 = sample5.mean()/5e-9 "
   ]
  },
  {
   "cell_type": "code",
   "execution_count": 15,
   "metadata": {},
   "outputs": [
    {
     "data": {
      "text/plain": [
       "(256, 256, 256)"
      ]
     },
     "execution_count": 15,
     "metadata": {},
     "output_type": "execute_result"
    }
   ],
   "source": [
    "sample1.shape"
   ]
  },
  {
   "cell_type": "code",
   "execution_count": 20,
   "metadata": {},
   "outputs": [
    {
     "data": {
      "text/plain": [
       "array([0., 0., 0., ..., 0., 0., 0.])"
      ]
     },
     "execution_count": 20,
     "metadata": {},
     "output_type": "execute_result"
    }
   ],
   "source": [
    "np.mean(sample1, axis=2).flatten() / 5e-9 "
   ]
  },
  {
   "cell_type": "code",
   "execution_count": 21,
   "metadata": {},
   "outputs": [
    {
     "data": {
      "text/plain": [
       "{'whiskers': [<matplotlib.lines.Line2D at 0x26ca1a9b190>,\n",
       "  <matplotlib.lines.Line2D at 0x26ca1a9b430>],\n",
       " 'caps': [<matplotlib.lines.Line2D at 0x26ca1a9b6d0>,\n",
       "  <matplotlib.lines.Line2D at 0x26ca1a9b970>],\n",
       " 'boxes': [<matplotlib.lines.Line2D at 0x26ca1a8deb0>],\n",
       " 'medians': [<matplotlib.lines.Line2D at 0x26ca1a9bc10>],\n",
       " 'fliers': [<matplotlib.lines.Line2D at 0x26ca1a9beb0>],\n",
       " 'means': []}"
      ]
     },
     "execution_count": 21,
     "metadata": {},
     "output_type": "execute_result"
    },
    {
     "data": {
      "image/png": "[encoded data removed]",
      "text/plain": [
       "<Figure size 640x480 with 1 Axes>"
      ]
     },
     "metadata": {},
     "output_type": "display_data"
    }
   ],
   "source": [
    "plt.boxplot(np.mean(sample1, axis=2).flatten() / 5e-9 )"
   ]
  }
 ],
 "metadata": {
  "anaconda-cloud": {},
  "kernelspec": {
   "display_name": "Python 3 (ipykernel)",
   "language": "python",
   "name": "python3"
  },
  "language_info": {
   "codemirror_mode": {
    "name": "ipython",
    "version": 3
   },
   "file_extension": ".py",
   "mimetype": "text/x-python",
   "name": "python",
   "nbconvert_exporter": "python",
   "pygments_lexer": "ipython3",
   "version": "3.8.13"
  }
 },
 "nbformat": 4,
 "nbformat_minor": 4
}
