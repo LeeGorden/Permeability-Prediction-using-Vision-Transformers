{
 "cells": [
  {
   "cell_type": "code",
   "execution_count": 1,
   "metadata": {},
   "outputs": [],
   "source": [
    "import os\n",
    "import csv\n",
    "from scipy.io import loadmat\n",
    "import mat73\n",
    "import zipfile\n",
    "\n",
    "import pandas as pd\n",
    "import numpy as np\n",
    "from sklearn.model_selection import train_test_split\n",
    "\n",
    "from matplotlib import pyplot as plt"
   ]
  },
  {
   "cell_type": "code",
   "execution_count": 2,
   "metadata": {},
   "outputs": [],
   "source": [
    "# load file location\n",
    "project_root = os.path.abspath(os.path.join(os.getcwd(), \"..\"))\n",
    "data_root = os.path.join(project_root, \"data\")"
   ]
  },
  {
   "cell_type": "code",
   "execution_count": 37,
   "metadata": {},
   "outputs": [
    {
     "name": "stdout",
     "output_type": "stream",
     "text": [
      "data not read correctly\n",
      "C:\\Personal\\MachineLearning\\Project\\Research\\PoreFlow\\data\\analysis\\344_04_256\\P_2_MPa.mat\n",
      "data not read correctly\n",
      "C:\\Personal\\MachineLearning\\Project\\Research\\PoreFlow\\data\\analysis\\344_04_256\\P_5_MPa.mat\n",
      "data not read correctly\n",
      "C:\\Personal\\MachineLearning\\Project\\Research\\PoreFlow\\data\\analysis\\344_05_256\\P_10_MPa.mat\n",
      "data not read correctly\n",
      "C:\\Personal\\MachineLearning\\Project\\Research\\PoreFlow\\data\\analysis\\344_05_256\\P_1_MPa.mat\n",
      "data not read correctly\n",
      "C:\\Personal\\MachineLearning\\Project\\Research\\PoreFlow\\data\\analysis\\374_10_02_256\\P_10_MPa.mat\n"
     ]
    }
   ],
   "source": [
    "# use original data as input\n",
    "with open(os.path.join(data_root, \"data_model.csv\"), 'w', newline='') as csvfile:\n",
    "    writer = csv.writer(csvfile)\n",
    "    writer.writerow([\"mpa_uz\", \"elec_uz\", \"label\"])\n",
    "    for sample_name in os.listdir(os.path.join(data_root, \"analysis\")):\n",
    "        mpa_uz_file = None\n",
    "        elec_Iz_file = None\n",
    "        for data_name in os.listdir(os.path.join(data_root, \"analysis\", sample_name)):\n",
    "            data_desc = data_name.split(\".\")[0]\n",
    "            data_name = os.path.join(data_root, \"analysis\", sample_name, data_name)\n",
    "            \n",
    "            try:\n",
    "                data = loadmat(data_name)\n",
    "            except:\n",
    "                try:\n",
    "                    data = mat73.loadmat(data_name)\n",
    "                except:\n",
    "                    print(\"data not read correctly\")\n",
    "                    print(data_name)\n",
    "                    continue\n",
    "                \n",
    "            if data_desc[-3:].lower() == \"mpa\":\n",
    "                data_mfp = data['mfp']\n",
    "                \n",
    "                data_uz = data['uz']\n",
    "                data_uz = ~(data_uz == 0) # 1 for pore space and 0 for solid space\n",
    "                data_uz = data_uz * 1.0\n",
    "                label = data_uz.mean() # perm, a floating point number\n",
    "                mpa_uz_file = os.path.join(data_root, \"data_model\", sample_name + \"_\" + data_desc + \"_\" + \"mfp.npy\")\n",
    "                np.save(mpa_uz_file, data_mfp)\n",
    "            else:\n",
    "                data_Iz = data['Iz']\n",
    "                elec_Iz_file = os.path.join(data_root, \"data_model\", sample_name + \"_\" + data_desc + \"_\" + \"Iz.npy\")                  \n",
    "                np.save(elec_Iz_file, data_Iz)\n",
    "            \n",
    "            if mpa_uz_file and elec_Iz_file:\n",
    "                writer.writerow([mpa_uz_file, elec_Iz_file, label])\n",
    "            \n",
    "csvfile.close()"
   ]
  },
  {
   "cell_type": "code",
   "execution_count": null,
   "metadata": {},
   "outputs": [],
   "source": [
    "# use processed data as input\n",
    "# use original data as input\n",
    "with open(os.path.join(data_root, \"data_model_processed.csv\"), 'w', newline='') as csvfile:\n",
    "    writer = csv.writer(csvfile)\n",
    "    writer.writerow([\"mpa_uz\", \"elec_uz\", \"label\"])\n",
    "    for sample_name in os.listdir(os.path.join(data_root, \"analysis\")):\n",
    "        mpa_uz_file = None\n",
    "        elec_Iz_file = None\n",
    "        for data_name in os.listdir(os.path.join(data_root, \"analysis\", sample_name)):\n",
    "            data_desc = data_name.split(\".\")[0]\n",
    "            data_name = os.path.join(data_root, \"analysis\", sample_name, data_name)\n",
    "            \n",
    "            try:\n",
    "                data = loadmat(data_name)\n",
    "            except:\n",
    "                try:\n",
    "                    data = mat73.loadmat(data_name)\n",
    "                except:\n",
    "                    print(\"data not read correctly\")\n",
    "                    print(data_name)\n",
    "                    continue\n",
    "                \n",
    "            if data_desc[-3:].lower() == \"mpa\":\n",
    "                data_mfp = data['mfp']\n",
    "                data_uz = data['uz']\n",
    "                data_uz = ~(data_uz == 0) # 1 for pore space and 0 for solid space\n",
    "                data_uz = data_uz * 1.0\n",
    "                label = data_uz.mean() # perm, a floating point number\n",
    "                mpa_uz_file = os.path.join(data_root, \"data_model\", sample_name + \"_\" + data_desc + \"_\" + \"mfp.npy\")\n",
    "                np.save(mpa_uz_file, data_mfp)\n",
    "            else:\n",
    "                data_Iz = data['Iz']\n",
    "                elec_Iz_file = os.path.join(data_root, \"data_model\", sample_name + \"_\" + data_desc + \"_\" + \"Iz.npy\")                  \n",
    "                np.save(elec_Iz_file, data_Iz)\n",
    "            \n",
    "            if mpa_uz_file and elec_Iz_file:\n",
    "                writer.writerow([mpa_uz_file, elec_Iz_file, label])\n",
    "            \n",
    "csvfile.close()"
   ]
  },
  {
   "cell_type": "code",
   "execution_count": 29,
   "metadata": {},
   "outputs": [],
   "source": [
    "numpy_list = []\n",
    "for numpy_data_name in os.listdir(os.path.join(data_root, \"data_model\")):\n",
    "    numpy_list.append(numpy_data_name)"
   ]
  },
  {
   "cell_type": "code",
   "execution_count": 30,
   "metadata": {},
   "outputs": [],
   "source": [
    "numpy_list.sort()"
   ]
  },
  {
   "cell_type": "code",
   "execution_count": 31,
   "metadata": {},
   "outputs": [
    {
     "data": {
      "text/plain": [
       "['10_01_256_10_01_256_elec_Iz.npy',\n",
       " '10_01_256_P_10_MPa_mfp.npy',\n",
       " '10_01_256_P_1_MPa_mfp.npy',\n",
       " '10_01_256_P_20_MPa_mfp.npy',\n",
       " '10_01_256_P_2_MPa_mfp.npy',\n",
       " '10_01_256_P_5_MPa_mfp.npy',\n",
       " '135_00_256_135_00_256_elec_Iz.npy',\n",
       " '135_00_256_P_10_MPa_mfp.npy',\n",
       " '135_00_256_P_1_MPa_mfp.npy',\n",
       " '135_00_256_P_20_MPa_mfp.npy',\n",
       " '135_00_256_P_2_MPa_mfp.npy',\n",
       " '135_00_256_P_5_MPa_mfp.npy',\n",
       " '135_02_256_135_02_256_elec_Iz.npy',\n",
       " '135_02_256_P_10_MPa_mfp.npy',\n",
       " '135_02_256_P_1_MPa_mfp.npy',\n",
       " '135_02_256_P_20_MPa_mfp.npy',\n",
       " '135_02_256_P_5_MPa_mfp.npy',\n",
       " '135_03_256_135_03_256_elec_Iz.npy',\n",
       " '135_03_256_P_10_MPa_mfp.npy',\n",
       " '135_03_256_P_1_MPa_mfp.npy',\n",
       " '135_03_256_P_20_MPa_mfp.npy',\n",
       " '135_03_256_P_5_MPa_mfp.npy',\n",
       " '135_04_256_135_04_256_elec_Iz.npy',\n",
       " '135_04_256_P_1_MPa_mfp.npy',\n",
       " '135_04_256_P_20_MPa_mfp.npy',\n",
       " '135_04_256_P_2_MPa_mfp.npy',\n",
       " '135_04_256_P_5_MPa_mfp.npy',\n",
       " '16_01_256_16_01_256_elec_Iz.npy',\n",
       " '16_01_256_P_10_MPa_mfp.npy',\n",
       " '16_01_256_P_1_MPa_mfp.npy',\n",
       " '16_01_256_P_20_MPa_mfp.npy',\n",
       " '16_01_256_P_2_MPa_mfp.npy',\n",
       " '16_01_256_P_5_MPa_mfp.npy',\n",
       " '16_02_256_16_02_256_elec_Iz.npy',\n",
       " '16_02_256_P_1_MPa_mfp.npy',\n",
       " '16_02_256_P_20_MPa_mfp.npy',\n",
       " '16_02_256_P_2_MPa_mfp.npy',\n",
       " '16_02_256_P_5_MPa_mfp.npy',\n",
       " '172_01_256_172_01_256_elec_Iz.npy',\n",
       " '172_01_256_P_10_MPa_mfp.npy',\n",
       " '172_01_256_P_1_MPa_mfp.npy',\n",
       " '172_01_256_P_20_MPa_mfp.npy',\n",
       " '172_01_256_P_2_MPa_mfp.npy',\n",
       " '172_01_256_P_5_MPa_mfp.npy',\n",
       " '172_02_256_172_02_256_elec_Iz.npy',\n",
       " '172_02_256_P_10_MPa_mfp.npy',\n",
       " '172_02_256_P_20_MPa_mfp.npy',\n",
       " '172_02_256_P_2_MPa_mfp.npy',\n",
       " '172_02_256_P_5_MPa_mfp.npy',\n",
       " '172_03_256_172_03_256_elec_Iz.npy',\n",
       " '172_03_256_P_10_MPa_mfp.npy',\n",
       " '172_03_256_P_20_MPa_mfp.npy',\n",
       " '204_010_256_204_010_256_elec_Iz.npy',\n",
       " '204_010_256_P_10_MPa_mfp.npy',\n",
       " '204_010_256_P_1_MPa_mfp.npy',\n",
       " '204_010_256_P_20_MPa_mfp.npy',\n",
       " '204_010_256_P_2_MPa_mfp.npy',\n",
       " '204_010_256_P_5_MPa_mfp.npy',\n",
       " '204_011_256_204_011_256_elec_Iz.npy',\n",
       " '204_011_256_P_1_MPa_mfp.npy',\n",
       " '204_011_256_P_20_MPa_mfp.npy',\n",
       " '204_011_256_P_2_MPa_mfp.npy',\n",
       " '204_011_256_P_5_MPa_mfp.npy',\n",
       " '204_012_256_204_012_256_elec_Iz.npy',\n",
       " '204_012_256_P_10_MPa_mfp.npy',\n",
       " '204_012_256_P_1_MPa_mfp.npy',\n",
       " '204_012_256_P_2_MPa_mfp.npy',\n",
       " '204_012_256_P_5_MPa_mfp.npy',\n",
       " '204_01_256_204_01_256_elec_Iz.npy',\n",
       " '204_01_256_P_10_MPa_mfp.npy',\n",
       " '204_01_256_P_1_MPa_mfp.npy',\n",
       " '204_01_256_P_20_MPa_mfp.npy',\n",
       " '204_01_256_P_2_MPa_mfp.npy',\n",
       " '204_01_256_P_5_MPa_mfp.npy',\n",
       " '204_02_256_204_02_256_elec_Iz.npy',\n",
       " '204_02_256_P_10_MPa_mfp.npy',\n",
       " '204_02_256_P_1_MPa_mfp.npy',\n",
       " '204_02_256_P_20_MPa_mfp.npy',\n",
       " '204_02_256_P_2_MPa_mfp.npy',\n",
       " '204_02_256_P_5_MPa_mfp.npy',\n",
       " '204_03_256_204_03_256_elec_Iz.npy',\n",
       " '204_03_256_P_10_MPa_mfp.npy',\n",
       " '204_03_256_P_1_MPa_mfp.npy',\n",
       " '204_03_256_P_2_MPa_mfp.npy',\n",
       " '204_03_256_P_5_MPa_mfp.npy',\n",
       " '204_04_256_204_04_256_elec_Iz.npy',\n",
       " '204_04_256_P_20_MPa_mfp.npy',\n",
       " '204_05_256_204_05_256_elec_Iz.npy',\n",
       " '204_05_256_P_10_MPa_mfp.npy',\n",
       " '204_05_256_P_1_MPa_mfp.npy',\n",
       " '204_05_256_P_20_MPa_mfp.npy',\n",
       " '204_05_256_P_5_MPa_mfp.npy',\n",
       " '204_06_256_204_06_256_elec_Iz.npy',\n",
       " '204_06_256_P_10_MPa_mfp.npy',\n",
       " '204_06_256_P_20_MPa_mfp.npy',\n",
       " '204_07_256_204_07_256_elec_Iz.npy',\n",
       " '204_07_256_P_10_MPa_mfp.npy',\n",
       " '204_07_256_P_2_MPa_mfp.npy',\n",
       " '204_08_256_204_08_256_elec_Iz.npy',\n",
       " '204_08_256_P_10_MPa_mfp.npy',\n",
       " '204_08_256_P_1_MPa_mfp.npy',\n",
       " '204_08_256_P_20_MPa_mfp.npy',\n",
       " '204_08_256_P_2_MPa_mfp.npy',\n",
       " '204_08_256_P_5_MPa_mfp.npy',\n",
       " '204_09_256_204_09_256_elec_Iz.npy',\n",
       " '204_09_256_P_10_MPa_mfp.npy',\n",
       " '204_09_256_P_1_MPa_mfp.npy',\n",
       " '204_09_256_P_20_MPa_mfp.npy',\n",
       " '204_09_256_P_2_MPa_mfp.npy',\n",
       " '204_09_256_P_5_MPa_mfp.npy',\n",
       " '207_01_256_207_01_256_elec_Iz.npy',\n",
       " '207_01_256_P_10_MPa_mfp.npy',\n",
       " '207_01_256_P_1_MPa_mfp.npy',\n",
       " '207_01_256_P_20_MPa_mfp.npy',\n",
       " '207_01_256_P_2_MPa_mfp.npy',\n",
       " '207_01_256_P_5_MPa_mfp.npy',\n",
       " '207_02_256_207_02_256_elec_Iz.npy',\n",
       " '207_02_256_P_10_MPa_mfp.npy',\n",
       " '207_02_256_P_1_MPa_mfp.npy',\n",
       " '207_02_256_P_20_MPa_mfp.npy',\n",
       " '207_02_256_P_5_MPa_mfp.npy',\n",
       " '207_03_256_207_03_256_elec_Iz.npy',\n",
       " '207_03_256_P_1_MPa_mfp.npy',\n",
       " '207_03_256_P_20_MPa_mfp.npy',\n",
       " '207_03_256_P_2_MPa_mfp.npy',\n",
       " '207_03_256_P_5_MPa_mfp.npy',\n",
       " '207_04_256_207_04_256_elec_Iz.npy',\n",
       " '207_04_256_P_10_MPa_mfp.npy',\n",
       " '207_04_256_P_1_MPa_mfp.npy',\n",
       " '207_04_256_P_20_MPa_mfp.npy',\n",
       " '207_04_256_P_2_MPa_mfp.npy',\n",
       " '207_04_256_P_5_MPa_mfp.npy',\n",
       " '276_01_256_276_01_256_elec_Iz.npy',\n",
       " '276_01_256_P_1_MPa_mfp.npy',\n",
       " '276_01_256_P_20_MPa_mfp.npy',\n",
       " '276_01_256_P_2_MPa_mfp.npy',\n",
       " '276_01_256_P_5_MPa_mfp.npy',\n",
       " '297_01_256_297_01_256_elec_Iz.npy',\n",
       " '297_01_256_P_10_MPa_mfp.npy',\n",
       " '297_01_256_P_1_MPa_mfp.npy',\n",
       " '297_01_256_P_20_MPa_mfp.npy',\n",
       " '297_01_256_P_2_MPa_mfp.npy',\n",
       " '297_01_256_P_5_MPa_mfp.npy',\n",
       " '317_010_256_317_010_256_elec_Iz.npy',\n",
       " '317_010_256_P_10_MPa_mfp.npy',\n",
       " '317_010_256_P_1_MPa_mfp.npy',\n",
       " '317_010_256_P_20_MPa_mfp.npy',\n",
       " '317_010_256_P_2_MPa_mfp.npy',\n",
       " '317_010_256_P_5_MPa_mfp.npy',\n",
       " '317_011_256_317_011_256_elec_Iz.npy',\n",
       " '317_011_256_P_10_MPa_mfp.npy',\n",
       " '317_011_256_P_1_MPa_mfp.npy',\n",
       " '317_011_256_P_20_MPa_mfp.npy',\n",
       " '317_011_256_P_2_MPa_mfp.npy',\n",
       " '317_011_256_P_5_MPa_mfp.npy',\n",
       " '317_01_256_317_01_256_elec_Iz.npy',\n",
       " '317_01_256_P_10_MPa_mfp.npy',\n",
       " '317_01_256_P_1_MPa_mfp.npy',\n",
       " '317_01_256_P_20_MPa_mfp.npy',\n",
       " '317_01_256_P_2_MPa_mfp.npy',\n",
       " '317_01_256_P_5_MPa_mfp.npy',\n",
       " '317_02_256_317_02_256_elec_Iz.npy',\n",
       " '317_02_256_P_10_MPa_mfp.npy',\n",
       " '317_02_256_P_1_MPa_mfp.npy',\n",
       " '317_02_256_P_20_MPa_mfp.npy',\n",
       " '317_02_256_P_2_MPa_mfp.npy',\n",
       " '317_02_256_P_5_MPa_mfp.npy',\n",
       " '317_03_256_317_03_256_elec_Iz.npy',\n",
       " '317_03_256_P_10_MPa_mfp.npy',\n",
       " '317_03_256_P_1_MPa_mfp.npy',\n",
       " '317_03_256_P_20_MPa_mfp.npy',\n",
       " '317_03_256_P_2_MPa_mfp.npy',\n",
       " '317_03_256_P_5_MPa_mfp.npy',\n",
       " '317_04_256_317_04_256_elec_Iz.npy',\n",
       " '317_04_256_P_10_MPa_mfp.npy',\n",
       " '317_04_256_P_20_MPa_mfp.npy',\n",
       " '317_04_256_P_2_MPa_mfp.npy',\n",
       " '317_04_256_P_5_MPa_mfp.npy',\n",
       " '317_05_256_317_05_256_elec_Iz.npy',\n",
       " '317_05_256_P_10_MPa_mfp.npy',\n",
       " '317_05_256_P_1_MPa_mfp.npy',\n",
       " '317_05_256_P_20_MPa_mfp.npy',\n",
       " '317_05_256_P_2_MPa_mfp.npy',\n",
       " '317_05_256_P_5_MPa_mfp.npy',\n",
       " '317_06_256_317_06_256_elec_Iz.npy',\n",
       " '317_06_256_P_10_MPa_mfp.npy',\n",
       " '317_06_256_P_1_MPa_mfp.npy',\n",
       " '317_06_256_P_20_MPa_mfp.npy',\n",
       " '317_06_256_P_2_MPa_mfp.npy',\n",
       " '317_07_256_317_07_256_elec_Iz.npy',\n",
       " '317_07_256_P_10_MPa_mfp.npy',\n",
       " '317_07_256_P_1_MPa_mfp.npy',\n",
       " '317_07_256_P_20_MPa_mfp.npy',\n",
       " '317_07_256_P_2_MPa_mfp.npy',\n",
       " '317_07_256_P_5_MPa_mfp.npy',\n",
       " '317_08_256_317_08_256_elec_Iz.npy',\n",
       " '317_08_256_P_10_MPa_mfp.npy',\n",
       " '317_08_256_P_2_MPa_mfp.npy',\n",
       " '317_09_256_317_09_256_elec_Iz.npy',\n",
       " '317_09_256_P_10_MPa_mfp.npy',\n",
       " '317_09_256_P_20_MPa_mfp.npy',\n",
       " '31_01_256_31_01_256_elec_Iz.npy',\n",
       " '31_01_256_P_10_MPa_mfp.npy',\n",
       " '31_01_256_P_1_MPa_mfp.npy',\n",
       " '31_01_256_P_20_MPa_mfp.npy',\n",
       " '31_01_256_P_2_MPa_mfp.npy',\n",
       " '31_01_256_P_5_MPa_mfp.npy',\n",
       " '31_02_256_31_02_256_elec_Iz.npy',\n",
       " '31_02_256_P_1_MPa_mfp.npy',\n",
       " '31_02_256_P_20_MPa_mfp.npy',\n",
       " '31_02_256_P_2_MPa_mfp.npy',\n",
       " '31_02_256_P_5_MPa_mfp.npy',\n",
       " '31_03_256_31_03_256_elec_Iz.npy',\n",
       " '31_03_256_P_10_MPa_mfp.npy',\n",
       " '31_03_256_P_1_MPa_mfp.npy',\n",
       " '31_03_256_P_20_MPa_mfp.npy',\n",
       " '31_03_256_P_2_MPa_mfp.npy',\n",
       " '31_03_256_P_5_MPa_mfp.npy',\n",
       " '31_04_256_31_04_256_elec_Iz.npy',\n",
       " '31_04_256_P_1_MPa_mfp.npy',\n",
       " '31_04_256_P_20_MPa_mfp.npy',\n",
       " '31_04_256_P_2_MPa_mfp.npy',\n",
       " '31_04_256_P_5_MPa_mfp.npy',\n",
       " '339_01_256_339_01_256_elec_Iz.npy',\n",
       " '339_01_256_P_10_MPa_mfp.npy',\n",
       " '339_01_256_P_1_MPa_mfp.npy',\n",
       " '339_01_256_P_20_MPa_mfp.npy',\n",
       " '339_01_256_P_2_MPa_mfp.npy',\n",
       " '339_01_256_P_5_MPa_mfp.npy',\n",
       " '339_02_256_339_02_256_elec_Iz.npy',\n",
       " '339_02_256_P_10_MPa_mfp.npy',\n",
       " '339_02_256_P_1_MPa_mfp.npy',\n",
       " '339_02_256_P_20_MPa_mfp.npy',\n",
       " '339_02_256_P_2_MPa_mfp.npy',\n",
       " '339_02_256_P_5_MPa_mfp.npy',\n",
       " '344_02_256_344_02_256_elec_Iz.npy',\n",
       " '344_02_256_P_10_MPa_mfp.npy',\n",
       " '344_02_256_P_20_MPa_mfp.npy',\n",
       " '344_04_256_344_04_256_elec_Iz.npy',\n",
       " '344_04_256_P_1_MPa_mfp.npy',\n",
       " '344_04_256_P_20_MPa_mfp.npy',\n",
       " '344_05_256_344_05_256_elec_Iz.npy',\n",
       " '344_05_256_P_2_MPa_mfp.npy',\n",
       " '344_05_256_P_5_MPa_mfp.npy',\n",
       " '374_01_00_256_374_01_00_256_elec_Iz.npy',\n",
       " '374_01_00_256_P_10_MPa_mfp.npy',\n",
       " '374_01_00_256_P_1_MPa_mfp.npy',\n",
       " '374_01_00_256_P_20_MPa_mfp.npy',\n",
       " '374_01_00_256_P_2_MPa_mfp.npy',\n",
       " '374_01_00_256_P_5_MPa_mfp.npy',\n",
       " '374_01_01_256_374_01_01_256_elec_Iz.npy',\n",
       " '374_01_01_256_P_10_MPa_mfp.npy',\n",
       " '374_01_01_256_P_1_MPa_mfp.npy',\n",
       " '374_01_01_256_P_20_MPa_mfp.npy',\n",
       " '374_01_01_256_P_2_MPa_mfp.npy',\n",
       " '374_01_01_256_P_5_MPa_mfp.npy',\n",
       " '374_01_02_256_374_01_02_256_elec_Iz.npy',\n",
       " '374_01_02_256_P_10_MPa_mfp.npy',\n",
       " '374_01_02_256_P_1_MPa_mfp.npy',\n",
       " '374_01_02_256_P_20_MPa_mfp.npy',\n",
       " '374_01_02_256_P_2_MPa_mfp.npy',\n",
       " '374_01_02_256_P_5_MPa_mfp.npy',\n",
       " '374_01_03_256_374_01_03_256_elec_Iz.npy',\n",
       " '374_01_03_256_P_10_MPa_mfp.npy',\n",
       " '374_01_03_256_P_1_MPa_mfp.npy',\n",
       " '374_01_03_256_P_20_MPa_mfp.npy',\n",
       " '374_01_03_256_P_2_MPa_mfp.npy',\n",
       " '374_01_03_256_P_5_MPa_mfp.npy',\n",
       " '374_01_04_256_374_01_04_256_elec_Iz.npy',\n",
       " '374_01_04_256_P_10_MPa_mfp.npy',\n",
       " '374_01_04_256_P_1_MPa_mfp.npy',\n",
       " '374_01_04_256_P_20_MPa_mfp.npy',\n",
       " '374_01_04_256_P_2_MPa_mfp.npy',\n",
       " '374_01_04_256_P_5_MPa_mfp.npy',\n",
       " '374_01_05_256_374_01_05_256_elec_Iz.npy',\n",
       " '374_01_05_256_P_10_MPa_mfp.npy',\n",
       " '374_01_05_256_P_1_MPa_mfp.npy',\n",
       " '374_01_05_256_P_20_MPa_mfp.npy',\n",
       " '374_01_05_256_P_2_MPa_mfp.npy',\n",
       " '374_01_05_256_P_5_MPa_mfp.npy',\n",
       " '374_01_06_256_374_01_06_256_elec_Iz.npy',\n",
       " '374_01_06_256_P_10_MPa_mfp.npy',\n",
       " '374_01_06_256_P_1_MPa_mfp.npy',\n",
       " '374_01_06_256_P_20_MPa_mfp.npy',\n",
       " '374_01_06_256_P_2_MPa_mfp.npy',\n",
       " '374_01_06_256_P_5_MPa_mfp.npy',\n",
       " '374_01_07_256_374_01_07_256_elec_Iz.npy',\n",
       " '374_01_07_256_P_10_MPa_mfp.npy',\n",
       " '374_01_07_256_P_20_MPa_mfp.npy',\n",
       " '374_02_00_256_374_02_00_256_elec_Iz.npy',\n",
       " '374_02_00_256_P_10_MPa_mfp.npy',\n",
       " '374_02_00_256_P_1_MPa_mfp.npy',\n",
       " '374_02_00_256_P_20_MPa_mfp.npy',\n",
       " '374_02_00_256_P_2_MPa_mfp.npy',\n",
       " '374_02_00_256_P_5_MPa_mfp.npy',\n",
       " '374_02_010_256_374_02_010_256_elec_Iz.npy',\n",
       " '374_02_010_256_P_10_MPa_mfp.npy',\n",
       " '374_02_010_256_P_1_MPa_mfp.npy',\n",
       " '374_02_010_256_P_20_MPa_mfp.npy',\n",
       " '374_02_010_256_P_2_MPa_mfp.npy',\n",
       " '374_02_010_256_P_5_MPa_mfp.npy',\n",
       " '374_02_011_256_374_02_011_256_elec_Iz.npy',\n",
       " '374_02_011_256_P_10_MPa_mfp.npy',\n",
       " '374_02_011_256_P_1_MPa_mfp.npy',\n",
       " '374_02_011_256_P_20_MPa_mfp.npy',\n",
       " '374_02_011_256_P_2_MPa_mfp.npy',\n",
       " '374_02_011_256_P_5_MPa_mfp.npy',\n",
       " '374_02_012_256_374_02_012_256_elec_Iz.npy',\n",
       " '374_02_012_256_P_10_MPa_mfp.npy',\n",
       " '374_02_012_256_P_1_MPa_mfp.npy',\n",
       " '374_02_012_256_P_2_MPa_mfp.npy',\n",
       " '374_02_012_256_P_5_MPa_mfp.npy',\n",
       " '374_02_013_256_374_02_013_256_elec_Iz.npy',\n",
       " '374_02_013_256_P_10_MPa_mfp.npy',\n",
       " '374_02_013_256_P_1_MPa_mfp.npy',\n",
       " '374_02_013_256_P_20_MPa_mfp.npy',\n",
       " '374_02_013_256_P_2_MPa_mfp.npy',\n",
       " '374_02_013_256_P_5_MPa_mfp.npy',\n",
       " '374_02_014_256_374_02_014_256_elec_Iz.npy',\n",
       " '374_02_014_256_P_10_MPa_mfp.npy',\n",
       " '374_02_014_256_P_1_MPa_mfp.npy',\n",
       " '374_02_014_256_P_20_MPa_mfp.npy',\n",
       " '374_02_014_256_P_2_MPa_mfp.npy',\n",
       " '374_02_014_256_P_5_MPa_mfp.npy',\n",
       " '374_02_01_256_374_02_01_256_elec_Iz.npy',\n",
       " '374_02_01_256_P_10_MPa_mfp.npy',\n",
       " '374_02_01_256_P_1_MPa_mfp.npy',\n",
       " '374_02_01_256_P_20_MPa_mfp.npy',\n",
       " '374_02_01_256_P_2_MPa_mfp.npy',\n",
       " '374_02_01_256_P_5_MPa_mfp.npy',\n",
       " '374_02_020_256_374_02_020_256_elec_Iz.npy',\n",
       " '374_02_020_256_P_10_MPa_mfp.npy',\n",
       " '374_02_020_256_P_1_MPa_mfp.npy',\n",
       " '374_02_020_256_P_20_MPa_mfp.npy',\n",
       " '374_02_020_256_P_2_MPa_mfp.npy',\n",
       " '374_02_020_256_P_5_MPa_mfp.npy',\n",
       " '374_02_021_256_374_02_021_256_elec_Iz.npy',\n",
       " '374_02_021_256_P_10_MPa_mfp.npy',\n",
       " '374_02_021_256_P_1_MPa_mfp.npy',\n",
       " '374_02_021_256_P_20_MPa_mfp.npy',\n",
       " '374_02_021_256_P_2_MPa_mfp.npy',\n",
       " '374_02_021_256_P_5_MPa_mfp.npy',\n",
       " '374_02_022_256_374_02_022_256_elec_Iz.npy',\n",
       " '374_02_022_256_P_10_MPa_mfp.npy',\n",
       " '374_02_022_256_P_1_MPa_mfp.npy',\n",
       " '374_02_022_256_P_20_MPa_mfp.npy',\n",
       " '374_02_022_256_P_2_MPa_mfp.npy',\n",
       " '374_02_022_256_P_5_MPa_mfp.npy',\n",
       " '374_02_023_256_374_02_023_256_elec_Iz.npy',\n",
       " '374_02_023_256_P_10_MPa_mfp.npy',\n",
       " '374_02_023_256_P_1_MPa_mfp.npy',\n",
       " '374_02_023_256_P_20_MPa_mfp.npy',\n",
       " '374_02_023_256_P_2_MPa_mfp.npy',\n",
       " '374_02_023_256_P_5_MPa_mfp.npy',\n",
       " '374_02_024_256_374_02_024_256_elec_Iz.npy',\n",
       " '374_02_024_256_P_10_MPa_mfp.npy',\n",
       " '374_02_024_256_P_1_MPa_mfp.npy',\n",
       " '374_02_024_256_P_20_MPa_mfp.npy',\n",
       " '374_02_024_256_P_2_MPa_mfp.npy',\n",
       " '374_02_024_256_P_5_MPa_mfp.npy',\n",
       " '374_02_02_256_374_02_02_256_elec_Iz.npy',\n",
       " '374_02_02_256_P_10_MPa_mfp.npy',\n",
       " '374_02_02_256_P_1_MPa_mfp.npy',\n",
       " '374_02_02_256_P_20_MPa_mfp.npy',\n",
       " '374_02_02_256_P_2_MPa_mfp.npy',\n",
       " '374_02_02_256_P_5_MPa_mfp.npy',\n",
       " '374_02_030_256_374_02_030_256_elec_Iz.npy',\n",
       " '374_02_030_256_P_10_MPa_mfp.npy',\n",
       " '374_02_030_256_P_1_MPa_mfp.npy',\n",
       " '374_02_030_256_P_20_MPa_mfp.npy',\n",
       " '374_02_030_256_P_2_MPa_mfp.npy',\n",
       " '374_02_030_256_P_5_MPa_mfp.npy',\n",
       " '374_02_031_256_374_02_031_256_elec_Iz.npy',\n",
       " '374_02_031_256_P_10_MPa_mfp.npy',\n",
       " '374_02_031_256_P_1_MPa_mfp.npy',\n",
       " '374_02_031_256_P_20_MPa_mfp.npy',\n",
       " '374_02_031_256_P_2_MPa_mfp.npy',\n",
       " '374_02_031_256_P_5_MPa_mfp.npy',\n",
       " '374_02_032_256_374_02_032_256_elec_Iz.npy',\n",
       " '374_02_032_256_P_10_MPa_mfp.npy',\n",
       " '374_02_032_256_P_1_MPa_mfp.npy',\n",
       " '374_02_032_256_P_20_MPa_mfp.npy',\n",
       " '374_02_032_256_P_2_MPa_mfp.npy',\n",
       " '374_02_033_256_374_02_033_256_elec_Iz.npy',\n",
       " '374_02_033_256_P_10_MPa_mfp.npy',\n",
       " '374_02_033_256_P_1_MPa_mfp.npy',\n",
       " '374_02_033_256_P_20_MPa_mfp.npy',\n",
       " '374_02_033_256_P_2_MPa_mfp.npy',\n",
       " '374_02_033_256_P_5_MPa_mfp.npy',\n",
       " '374_02_034_256_374_02_034_256_elec_Iz.npy',\n",
       " '374_02_034_256_P_10_MPa_mfp.npy',\n",
       " '374_02_034_256_P_1_MPa_mfp.npy',\n",
       " '374_02_034_256_P_20_MPa_mfp.npy',\n",
       " '374_02_034_256_P_2_MPa_mfp.npy',\n",
       " '374_02_034_256_P_5_MPa_mfp.npy',\n",
       " '374_02_03_256_374_02_03_256_elec_Iz.npy',\n",
       " '374_02_03_256_P_10_MPa_mfp.npy',\n",
       " '374_02_03_256_P_1_MPa_mfp.npy',\n",
       " '374_02_03_256_P_20_MPa_mfp.npy',\n",
       " '374_02_03_256_P_2_MPa_mfp.npy',\n",
       " '374_02_03_256_P_5_MPa_mfp.npy',\n",
       " '374_02_04_256_374_02_04_256_elec_Iz.npy',\n",
       " '374_02_04_256_P_10_MPa_mfp.npy',\n",
       " '374_02_04_256_P_1_MPa_mfp.npy',\n",
       " '374_02_04_256_P_20_MPa_mfp.npy',\n",
       " '374_02_04_256_P_2_MPa_mfp.npy',\n",
       " '374_02_04_256_P_5_MPa_mfp.npy',\n",
       " '374_03_010_256_374_03_010_256_elec_Iz.npy',\n",
       " '374_03_010_256_P_10_MPa_mfp.npy',\n",
       " '374_03_010_256_P_1_MPa_mfp.npy',\n",
       " '374_03_010_256_P_20_MPa_mfp.npy',\n",
       " '374_03_010_256_P_2_MPa_mfp.npy',\n",
       " '374_03_010_256_P_5_MPa_mfp.npy',\n",
       " '374_03_011_256_374_03_011_256_elec_Iz.npy',\n",
       " '374_03_011_256_P_10_MPa_mfp.npy',\n",
       " '374_03_011_256_P_1_MPa_mfp.npy',\n",
       " '374_03_011_256_P_20_MPa_mfp.npy',\n",
       " '374_03_011_256_P_2_MPa_mfp.npy',\n",
       " '374_03_011_256_P_5_MPa_mfp.npy',\n",
       " '374_03_012_256_374_03_012_256_elec_Iz.npy',\n",
       " '374_03_012_256_P_10_MPa_mfp.npy',\n",
       " '374_03_012_256_P_1_MPa_mfp.npy',\n",
       " '374_03_012_256_P_20_MPa_mfp.npy',\n",
       " '374_03_012_256_P_2_MPa_mfp.npy',\n",
       " '374_03_012_256_P_5_MPa_mfp.npy',\n",
       " '374_03_013_256_374_03_013_256_elec_Iz.npy',\n",
       " '374_03_013_256_P_10_MPa_mfp.npy',\n",
       " '374_03_013_256_P_1_MPa_mfp.npy',\n",
       " '374_03_013_256_P_20_MPa_mfp.npy',\n",
       " '374_03_013_256_P_2_MPa_mfp.npy',\n",
       " '374_03_013_256_P_5_MPa_mfp.npy',\n",
       " '374_03_014_256_374_03_014_256_elec_Iz.npy',\n",
       " '374_03_014_256_P_10_MPa_mfp.npy',\n",
       " '374_03_014_256_P_1_MPa_mfp.npy',\n",
       " '374_03_014_256_P_20_MPa_mfp.npy',\n",
       " '374_03_014_256_P_2_MPa_mfp.npy',\n",
       " '374_03_014_256_P_5_MPa_mfp.npy',\n",
       " '374_03_015_256_374_03_015_256_elec_Iz.npy',\n",
       " '374_03_015_256_P_10_MPa_mfp.npy',\n",
       " '374_03_015_256_P_1_MPa_mfp.npy',\n",
       " '374_03_015_256_P_20_MPa_mfp.npy',\n",
       " '374_03_015_256_P_2_MPa_mfp.npy',\n",
       " '374_03_015_256_P_5_MPa_mfp.npy',\n",
       " '374_03_016_256_374_03_016_256_elec_Iz.npy',\n",
       " '374_03_016_256_P_10_MPa_mfp.npy',\n",
       " '374_03_016_256_P_1_MPa_mfp.npy',\n",
       " '374_03_016_256_P_20_MPa_mfp.npy',\n",
       " '374_03_016_256_P_2_MPa_mfp.npy',\n",
       " '374_03_016_256_P_5_MPa_mfp.npy',\n",
       " '374_03_017_256_374_03_017_256_elec_Iz.npy',\n",
       " '374_03_017_256_P_10_MPa_mfp.npy',\n",
       " '374_03_017_256_P_1_MPa_mfp.npy',\n",
       " '374_03_017_256_P_20_MPa_mfp.npy',\n",
       " '374_03_017_256_P_2_MPa_mfp.npy',\n",
       " '374_03_017_256_P_5_MPa_mfp.npy',\n",
       " '374_03_018_256_374_03_018_256_elec_Iz.npy',\n",
       " '374_03_018_256_P_10_MPa_mfp.npy',\n",
       " '374_03_018_256_P_1_MPa_mfp.npy',\n",
       " '374_03_018_256_P_20_MPa_mfp.npy',\n",
       " '374_03_018_256_P_2_MPa_mfp.npy',\n",
       " '374_03_018_256_P_5_MPa_mfp.npy',\n",
       " '374_03_01_256_374_03_01_256_elec_Iz.npy',\n",
       " '374_03_01_256_P_10_MPa_mfp.npy',\n",
       " '374_03_01_256_P_1_MPa_mfp.npy',\n",
       " '374_03_01_256_P_20_MPa_mfp.npy',\n",
       " '374_03_01_256_P_2_MPa_mfp.npy',\n",
       " '374_03_01_256_P_5_MPa_mfp.npy',\n",
       " '374_03_02_256_374_03_02_256_elec_Iz.npy',\n",
       " '374_03_02_256_P_10_MPa_mfp.npy',\n",
       " '374_03_02_256_P_1_MPa_mfp.npy',\n",
       " '374_03_02_256_P_20_MPa_mfp.npy',\n",
       " '374_03_02_256_P_2_MPa_mfp.npy',\n",
       " '374_03_02_256_P_5_MPa_mfp.npy',\n",
       " '374_03_03_256_374_03_03_256_elec_Iz.npy',\n",
       " '374_03_03_256_P_10_MPa_mfp.npy',\n",
       " '374_03_03_256_P_1_MPa_mfp.npy',\n",
       " '374_03_03_256_P_20_MPa_mfp.npy',\n",
       " '374_03_03_256_P_2_MPa_mfp.npy',\n",
       " '374_03_03_256_P_5_MPa_mfp.npy',\n",
       " '374_03_04_256_374_03_04_256_elec_Iz.npy',\n",
       " '374_03_04_256_P_10_MPa_mfp.npy',\n",
       " '374_03_04_256_P_1_MPa_mfp.npy',\n",
       " '374_03_04_256_P_20_MPa_mfp.npy',\n",
       " '374_03_04_256_P_2_MPa_mfp.npy',\n",
       " '374_03_04_256_P_5_MPa_mfp.npy',\n",
       " '374_03_05_256_374_03_05_256_elec_Iz.npy',\n",
       " '374_03_05_256_P_10_MPa_mfp.npy',\n",
       " '374_03_05_256_P_1_MPa_mfp.npy',\n",
       " '374_03_05_256_P_20_MPa_mfp.npy',\n",
       " '374_03_05_256_P_2_MPa_mfp.npy',\n",
       " '374_03_05_256_P_5_MPa_mfp.npy',\n",
       " '374_03_06_256_374_03_06_256_elec_Iz.npy',\n",
       " '374_03_06_256_P_10_MPa_mfp.npy',\n",
       " '374_03_06_256_P_1_MPa_mfp.npy',\n",
       " '374_03_06_256_P_20_MPa_mfp.npy',\n",
       " '374_03_06_256_P_2_MPa_mfp.npy',\n",
       " '374_03_06_256_P_5_MPa_mfp.npy',\n",
       " '374_03_07_256_374_03_07_256_elec_Iz.npy',\n",
       " '374_03_07_256_P_10_MPa_mfp.npy',\n",
       " '374_03_07_256_P_1_MPa_mfp.npy',\n",
       " '374_03_07_256_P_20_MPa_mfp.npy',\n",
       " '374_03_07_256_P_2_MPa_mfp.npy',\n",
       " '374_03_07_256_P_5_MPa_mfp.npy',\n",
       " '374_03_08_256_374_03_08_256_elec_Iz.npy',\n",
       " '374_03_08_256_P_10_MPa_mfp.npy',\n",
       " '374_03_08_256_P_1_MPa_mfp.npy',\n",
       " '374_03_08_256_P_20_MPa_mfp.npy',\n",
       " '374_03_08_256_P_2_MPa_mfp.npy',\n",
       " '374_03_08_256_P_5_MPa_mfp.npy',\n",
       " '374_03_09_256_374_03_09_256_elec_Iz.npy',\n",
       " '374_03_09_256_P_10_MPa_mfp.npy',\n",
       " '374_03_09_256_P_1_MPa_mfp.npy',\n",
       " '374_03_09_256_P_20_MPa_mfp.npy',\n",
       " '374_03_09_256_P_2_MPa_mfp.npy',\n",
       " '374_03_09_256_P_5_MPa_mfp.npy',\n",
       " '374_04_00_256_374_04_00_256_elec_Iz.npy',\n",
       " '374_04_00_256_P_10_MPa_mfp.npy',\n",
       " '374_04_00_256_P_1_MPa_mfp.npy',\n",
       " '374_04_00_256_P_20_MPa_mfp.npy',\n",
       " '374_04_00_256_P_2_MPa_mfp.npy',\n",
       " '374_04_00_256_P_5_MPa_mfp.npy',\n",
       " '374_04_01_256_374_04_01_256_elec_Iz.npy',\n",
       " '374_04_01_256_P_10_MPa_mfp.npy',\n",
       " '374_04_01_256_P_1_MPa_mfp.npy',\n",
       " '374_04_01_256_P_20_MPa_mfp.npy',\n",
       " '374_04_01_256_P_2_MPa_mfp.npy',\n",
       " '374_04_01_256_P_5_MPa_mfp.npy',\n",
       " '374_05_00_256_374_05_00_256_elec_Iz.npy',\n",
       " '374_05_00_256_P_10_MPa_mfp.npy',\n",
       " '374_05_00_256_P_1_MPa_mfp.npy',\n",
       " '374_05_00_256_P_20_MPa_mfp.npy',\n",
       " '374_05_00_256_P_2_MPa_mfp.npy',\n",
       " '374_05_00_256_P_5_MPa_mfp.npy',\n",
       " '374_05_01_256_374_05_01_256_elec_Iz.npy',\n",
       " '374_05_01_256_P_10_MPa_mfp.npy',\n",
       " '374_05_01_256_P_1_MPa_mfp.npy',\n",
       " '374_05_01_256_P_20_MPa_mfp.npy',\n",
       " '374_05_01_256_P_2_MPa_mfp.npy',\n",
       " '374_05_01_256_P_5_MPa_mfp.npy',\n",
       " '374_05_02_256_374_05_02_256_elec_Iz.npy',\n",
       " '374_05_02_256_P_10_MPa_mfp.npy',\n",
       " '374_05_02_256_P_1_MPa_mfp.npy',\n",
       " '374_05_02_256_P_20_MPa_mfp.npy',\n",
       " '374_05_02_256_P_2_MPa_mfp.npy',\n",
       " '374_05_02_256_P_5_MPa_mfp.npy',\n",
       " '374_05_03_256_374_05_03_256_elec_Iz.npy',\n",
       " '374_05_03_256_P_10_MPa_mfp.npy',\n",
       " '374_05_03_256_P_1_MPa_mfp.npy',\n",
       " '374_05_03_256_P_20_MPa_mfp.npy',\n",
       " '374_05_03_256_P_2_MPa_mfp.npy',\n",
       " '374_05_03_256_P_5_MPa_mfp.npy',\n",
       " '374_06_00_256_374_06_00_256_elec_Iz.npy',\n",
       " '374_06_00_256_P_10_MPa_mfp.npy',\n",
       " '374_06_00_256_P_1_MPa_mfp.npy',\n",
       " '374_06_00_256_P_20_MPa_mfp.npy',\n",
       " '374_06_00_256_P_2_MPa_mfp.npy',\n",
       " '374_06_00_256_P_5_MPa_mfp.npy',\n",
       " '374_06_01_256_374_06_01_256_elec_Iz.npy',\n",
       " '374_06_01_256_P_10_MPa_mfp.npy',\n",
       " '374_06_01_256_P_1_MPa_mfp.npy',\n",
       " '374_06_01_256_P_20_MPa_mfp.npy',\n",
       " '374_06_01_256_P_2_MPa_mfp.npy',\n",
       " '374_06_01_256_P_5_MPa_mfp.npy',\n",
       " '374_07_00_256_374_07_00_256_elec_Iz.npy',\n",
       " '374_07_00_256_P_10_MPa_mfp.npy',\n",
       " '374_07_00_256_P_1_MPa_mfp.npy',\n",
       " '374_07_00_256_P_20_MPa_mfp.npy',\n",
       " '374_07_00_256_P_2_MPa_mfp.npy',\n",
       " '374_07_00_256_P_5_MPa_mfp.npy',\n",
       " '374_07_01_256_374_07_01_256_elec_Iz.npy',\n",
       " '374_07_01_256_P_10_MPa_mfp.npy',\n",
       " '374_07_01_256_P_1_MPa_mfp.npy',\n",
       " '374_07_01_256_P_20_MPa_mfp.npy',\n",
       " '374_07_01_256_P_2_MPa_mfp.npy',\n",
       " '374_07_01_256_P_5_MPa_mfp.npy',\n",
       " '374_07_02_256_374_07_02_256_elec_Iz.npy',\n",
       " '374_07_02_256_P_10_MPa_mfp.npy',\n",
       " '374_07_02_256_P_1_MPa_mfp.npy',\n",
       " '374_07_02_256_P_20_MPa_mfp.npy',\n",
       " '374_07_02_256_P_2_MPa_mfp.npy',\n",
       " '374_07_02_256_P_5_MPa_mfp.npy',\n",
       " '374_08_00_256_374_08_00_256_elec_Iz.npy',\n",
       " '374_08_00_256_P_10_MPa_mfp.npy',\n",
       " '374_08_00_256_P_1_MPa_mfp.npy',\n",
       " '374_08_00_256_P_20_MPa_mfp.npy',\n",
       " '374_08_00_256_P_2_MPa_mfp.npy',\n",
       " '374_08_00_256_P_5_MPa_mfp.npy',\n",
       " '374_09_01_256_374_09_01_256_elec_Iz.npy',\n",
       " '374_09_01_256_P_10_MPa_mfp.npy',\n",
       " '374_09_01_256_P_1_MPa_mfp.npy',\n",
       " '374_09_01_256_P_20_MPa_mfp.npy',\n",
       " '374_09_01_256_P_2_MPa_mfp.npy',\n",
       " '374_09_01_256_P_5_MPa_mfp.npy',\n",
       " '374_09_02_256_374_09_02_256_elec_Iz.npy',\n",
       " '374_09_02_256_P_10_MPa_mfp.npy',\n",
       " '374_09_02_256_P_1_MPa_mfp.npy',\n",
       " '374_09_02_256_P_20_MPa_mfp.npy',\n",
       " '374_09_02_256_P_2_MPa_mfp.npy',\n",
       " '374_09_02_256_P_5_MPa_mfp.npy',\n",
       " '374_09_03_256_374_09_03_256_elec_Iz.npy',\n",
       " '374_09_03_256_P_10_MPa_mfp.npy',\n",
       " '374_09_03_256_P_1_MPa_mfp.npy',\n",
       " '374_09_03_256_P_20_MPa_mfp.npy',\n",
       " '374_09_03_256_P_2_MPa_mfp.npy',\n",
       " '374_09_03_256_P_5_MPa_mfp.npy',\n",
       " '374_09_04_256_374_09_04_256_elec_Iz.npy',\n",
       " '374_09_04_256_P_10_MPa_mfp.npy',\n",
       " '374_09_04_256_P_1_MPa_mfp.npy',\n",
       " '374_09_04_256_P_20_MPa_mfp.npy',\n",
       " '374_09_04_256_P_2_MPa_mfp.npy',\n",
       " '374_09_04_256_P_5_MPa_mfp.npy',\n",
       " '374_10_01_256_374_10_01_256_elec_Iz.npy',\n",
       " '374_10_01_256_P_10_MPa_mfp.npy',\n",
       " '374_10_01_256_P_1_MPa_mfp.npy',\n",
       " '374_10_01_256_P_20_MPa_mfp.npy',\n",
       " '374_10_01_256_P_2_MPa_mfp.npy',\n",
       " '374_10_01_256_P_5_MPa_mfp.npy',\n",
       " '374_10_02_256_374_10_02_256_elec_Iz.npy',\n",
       " '374_10_02_256_P_1_MPa_mfp.npy',\n",
       " '374_10_02_256_P_20_MPa_mfp.npy',\n",
       " '374_10_02_256_P_2_MPa_mfp.npy',\n",
       " '374_10_02_256_P_5_MPa_mfp.npy',\n",
       " '57_01_256_57_01_256_elec_Iz.npy',\n",
       " '57_01_256_P_1_MPa_mfp.npy',\n",
       " '57_01_256_P_20_MPa_mfp.npy',\n",
       " '57_01_256_P_2_MPa_mfp.npy',\n",
       " '57_02_256_57_02_256_elec_Iz.npy',\n",
       " '57_02_256_P_10_MPa_mfp.npy',\n",
       " '57_02_256_P_1_MPa_mfp.npy',\n",
       " '57_02_256_P_20_MPa_mfp.npy',\n",
       " '57_02_256_P_2_MPa_mfp.npy',\n",
       " '57_02_256_P_5_MPa_mfp.npy',\n",
       " '57_03_256_57_03_256_elec_Iz.npy',\n",
       " '57_03_256_P_10_MPa_mfp.npy',\n",
       " '57_03_256_P_1_MPa_mfp.npy',\n",
       " '57_03_256_P_20_MPa_mfp.npy',\n",
       " '57_03_256_P_2_MPa_mfp.npy',\n",
       " '57_03_256_P_5_MPa_mfp.npy',\n",
       " '57_04_256_57_04_256_elec_Iz.npy',\n",
       " '57_04_256_P_10_MPa_mfp.npy',\n",
       " '57_04_256_P_1_MPa_mfp.npy',\n",
       " '57_04_256_P_20_MPa_mfp.npy',\n",
       " '57_04_256_P_2_MPa_mfp.npy',\n",
       " '57_04_256_P_5_MPa_mfp.npy',\n",
       " '57_05_256_57_05_256_elec_Iz.npy',\n",
       " '57_05_256_P_10_MPa_mfp.npy',\n",
       " '57_05_256_P_1_MPa_mfp.npy',\n",
       " '57_05_256_P_20_MPa_mfp.npy',\n",
       " '57_05_256_P_2_MPa_mfp.npy',\n",
       " '57_05_256_P_5_MPa_mfp.npy',\n",
       " '57_06_256_57_06_256_elec_Iz.npy',\n",
       " '57_06_256_P_10_MPa_mfp.npy',\n",
       " '57_06_256_P_1_MPa_mfp.npy',\n",
       " '57_06_256_P_20_MPa_mfp.npy',\n",
       " '57_06_256_P_2_MPa_mfp.npy',\n",
       " '57_06_256_P_5_MPa_mfp.npy',\n",
       " '57_07_256_57_07_256_elec_Iz.npy',\n",
       " '57_07_256_P_1_MPa_mfp.npy',\n",
       " '57_07_256_P_20_MPa_mfp.npy',\n",
       " '57_07_256_P_2_MPa_mfp.npy',\n",
       " '57_07_256_P_5_MPa_mfp.npy',\n",
       " '58_01_256_58_01_256_elec_Iz.npy',\n",
       " '58_01_256_P_10_MPa_mfp.npy',\n",
       " '58_01_256_P_1_MPa_mfp.npy',\n",
       " '58_01_256_P_20_MPa_mfp.npy',\n",
       " '58_01_256_P_2_MPa_mfp.npy',\n",
       " '58_01_256_P_5_MPa_mfp.npy',\n",
       " '65_01_256_65_01_256_elec_Iz.npy',\n",
       " '65_01_256_P_10_MPa_mfp.npy',\n",
       " '65_01_256_P_1_MPa_mfp.npy',\n",
       " '65_01_256_P_20_MPa_mfp.npy',\n",
       " '65_01_256_P_2_MPa_mfp.npy',\n",
       " '65_01_256_P_5_MPa_mfp.npy',\n",
       " '65_02_256_65_02_256_elec_Iz.npy',\n",
       " '65_02_256_P_10_MPa_mfp.npy',\n",
       " '65_02_256_P_1_MPa_mfp.npy',\n",
       " '65_02_256_P_20_MPa_mfp.npy',\n",
       " '65_02_256_P_2_MPa_mfp.npy',\n",
       " '65_02_256_P_5_MPa_mfp.npy',\n",
       " '65_03_256_65_03_256_elec_Iz.npy',\n",
       " '65_03_256_P_10_MPa_mfp.npy',\n",
       " '65_03_256_P_1_MPa_mfp.npy',\n",
       " '65_03_256_P_20_MPa_mfp.npy',\n",
       " '65_03_256_P_2_MPa_mfp.npy',\n",
       " '65_03_256_P_5_MPa_mfp.npy',\n",
       " '65_04_256_65_04_256_elec_Iz.npy',\n",
       " '65_04_256_P_10_MPa_mfp.npy',\n",
       " '65_04_256_P_1_MPa_mfp.npy',\n",
       " '65_04_256_P_20_MPa_mfp.npy',\n",
       " '65_04_256_P_2_MPa_mfp.npy',\n",
       " '65_04_256_P_5_MPa_mfp.npy',\n",
       " '65_05_256_65_05_256_elec_Iz.npy',\n",
       " '65_05_256_P_10_MPa_mfp.npy',\n",
       " '65_05_256_P_1_MPa_mfp.npy',\n",
       " '65_05_256_P_20_MPa_mfp.npy',\n",
       " '65_05_256_P_2_MPa_mfp.npy',\n",
       " '65_05_256_P_5_MPa_mfp.npy',\n",
       " '72_01_256_72_01_256_elec_Iz.npy',\n",
       " '72_01_256_P_10_MPa_mfp.npy',\n",
       " '72_01_256_P_1_MPa_mfp.npy',\n",
       " '72_01_256_P_20_MPa_mfp.npy',\n",
       " '72_01_256_P_2_MPa_mfp.npy',\n",
       " '72_01_256_P_5_MPa_mfp.npy',\n",
       " '72_02_256_72_02_256_elec_Iz.npy',\n",
       " '72_02_256_P_10_MPa_mfp.npy',\n",
       " '72_02_256_P_1_MPa_mfp.npy',\n",
       " '72_02_256_P_20_MPa_mfp.npy',\n",
       " '72_02_256_P_2_MPa_mfp.npy',\n",
       " '72_02_256_P_5_MPa_mfp.npy',\n",
       " '73_01_256_73_01_256_elec_Iz.npy',\n",
       " '73_01_256_P_10_MPa_mfp.npy',\n",
       " '73_01_256_P_1_MPa_mfp.npy',\n",
       " '73_01_256_P_20_MPa_mfp.npy',\n",
       " '73_01_256_P_2_MPa_mfp.npy',\n",
       " '73_01_256_P_5_MPa_mfp.npy',\n",
       " '73_02_256_73_02_256_elec_Iz.npy',\n",
       " '73_02_256_P_10_MPa_mfp.npy',\n",
       " '73_02_256_P_1_MPa_mfp.npy',\n",
       " '73_02_256_P_20_MPa_mfp.npy',\n",
       " '73_02_256_P_2_MPa_mfp.npy',\n",
       " '73_02_256_P_5_MPa_mfp.npy']"
      ]
     },
     "execution_count": 31,
     "metadata": {},
     "output_type": "execute_result"
    }
   ],
   "source": [
    "numpy_list"
   ]
  },
  {
   "cell_type": "markdown",
   "metadata": {},
   "source": [
    "### Cross Section of mfp and elec"
   ]
  },
  {
   "cell_type": "code",
   "execution_count": 72,
   "metadata": {},
   "outputs": [
    {
     "name": "stdout",
     "output_type": "stream",
     "text": [
      "dict_keys(['__header__', '__version__', '__globals__', 'ux', 'uy', 'uz', 'rho', 'mfp'])\n",
      "(256, 256, 256)\n"
     ]
    }
   ],
   "source": [
    "mat_data_name = os.path.join(data_root, \"analysis\", \"374_01_07_256\")\n",
    "M = loadmat(os.path.join(mat_data_name, \"P_20_MPa.mat\"))\n",
    "print(M.keys())\n",
    "print(M['mfp'].shape)"
   ]
  },
  {
   "cell_type": "code",
   "execution_count": 73,
   "metadata": {},
   "outputs": [
    {
     "data": {
      "text/plain": [
       "<matplotlib.image.AxesImage at 0x1c06d0b0520>"
      ]
     },
     "execution_count": 73,
     "metadata": {},
     "output_type": "execute_result"
    },
    {
     "data": {
      "image/png": "[encoded data removed]",
      "text/plain": [
       "<Figure size 640x480 with 1 Axes>"
      ]
     },
     "metadata": {},
     "output_type": "display_data"
    }
   ],
   "source": [
    "plt.imshow(M['mfp'][:, :, 0])"
   ]
  },
  {
   "cell_type": "code",
   "execution_count": 74,
   "metadata": {},
   "outputs": [
    {
     "data": {
      "text/plain": [
       "<matplotlib.image.AxesImage at 0x1c06d2a7160>"
      ]
     },
     "execution_count": 74,
     "metadata": {},
     "output_type": "execute_result"
    },
    {
     "data": {
      "image/png": "[encoded data removed]",
      "text/plain": [
       "<Figure size 640x480 with 1 Axes>"
      ]
     },
     "metadata": {},
     "output_type": "display_data"
    }
   ],
   "source": [
    "plt.imshow(M['uz'][:, :, 0])"
   ]
  },
  {
   "cell_type": "code",
   "execution_count": 75,
   "metadata": {},
   "outputs": [
    {
     "data": {
      "text/plain": [
       "<matplotlib.image.AxesImage at 0x1c06d155400>"
      ]
     },
     "execution_count": 75,
     "metadata": {},
     "output_type": "execute_result"
    },
    {
     "data": {
      "image/png": "[encoded data removed]",
      "text/plain": [
       "<Figure size 640x480 with 1 Axes>"
      ]
     },
     "metadata": {},
     "output_type": "display_data"
    }
   ],
   "source": [
    "data_uz = M['uz'].copy()\n",
    "data_uz = ~(data_uz == 0) # 1 for pore space and 0 for solid space\n",
    "data_uz = data_uz * 1.0\n",
    "plt.imshow(data_uz[:, :, 0])"
   ]
  },
  {
   "cell_type": "code",
   "execution_count": 76,
   "metadata": {},
   "outputs": [
    {
     "name": "stdout",
     "output_type": "stream",
     "text": [
      "dict_keys(['Ix', 'Iy', 'Iz', 'phi'])\n",
      "(256, 256, 256)\n"
     ]
    }
   ],
   "source": [
    "mat_data_name = os.path.join(data_root, \"analysis\", \"374_01_07_256\")\n",
    "E = mat73.loadmat(os.path.join(mat_data_name, \"374_01_07_256_elec.mat\"))\n",
    "print(E.keys())\n",
    "print(E['phi'].shape)"
   ]
  },
  {
   "cell_type": "code",
   "execution_count": 77,
   "metadata": {},
   "outputs": [
    {
     "data": {
      "text/plain": [
       "<matplotlib.image.AxesImage at 0x1c06d1cf040>"
      ]
     },
     "execution_count": 77,
     "metadata": {},
     "output_type": "execute_result"
    },
    {
     "data": {
      "image/png": "[encoded data removed]",
      "text/plain": [
       "<Figure size 640x480 with 1 Axes>"
      ]
     },
     "metadata": {},
     "output_type": "display_data"
    }
   ],
   "source": [
    "plt.imshow(E['phi'][:, :, 0])"
   ]
  },
  {
   "cell_type": "code",
   "execution_count": 78,
   "metadata": {},
   "outputs": [
    {
     "data": {
      "text/plain": [
       "<matplotlib.image.AxesImage at 0x1c06d2410d0>"
      ]
     },
     "execution_count": 78,
     "metadata": {},
     "output_type": "execute_result"
    },
    {
     "data": {
      "image/png": "[encoded data removed]",
      "text/plain": [
       "<Figure size 640x480 with 1 Axes>"
      ]
     },
     "metadata": {},
     "output_type": "display_data"
    }
   ],
   "source": [
    "plt.imshow(E['Iz'][:, :, 0])"
   ]
  },
  {
   "cell_type": "code",
   "execution_count": 79,
   "metadata": {},
   "outputs": [
    {
     "name": "stdout",
     "output_type": "stream",
     "text": [
      "dict_keys(['__header__', '__version__', '__globals__', 'ux', 'uy', 'uz', 'rho', 'mfp'])\n",
      "(256, 256, 256)\n"
     ]
    }
   ],
   "source": [
    "mat_data_name = os.path.join(data_root, \"analysis\", \"72_02_256\")\n",
    "M = loadmat(os.path.join(mat_data_name, \"P_20_MPa.mat\"))\n",
    "print(M.keys())\n",
    "print(M['mfp'].shape)"
   ]
  },
  {
   "cell_type": "code",
   "execution_count": 80,
   "metadata": {},
   "outputs": [
    {
     "data": {
      "text/plain": [
       "<matplotlib.image.AxesImage at 0x1c06d458cd0>"
      ]
     },
     "execution_count": 80,
     "metadata": {},
     "output_type": "execute_result"
    },
    {
     "data": {
      "image/png": "[encoded data removed]",
      "text/plain": [
       "<Figure size 640x480 with 1 Axes>"
      ]
     },
     "metadata": {},
     "output_type": "display_data"
    }
   ],
   "source": [
    "plt.imshow(M['mfp'][:, :, 0])"
   ]
  },
  {
   "cell_type": "code",
   "execution_count": 81,
   "metadata": {},
   "outputs": [
    {
     "data": {
      "text/plain": [
       "<matplotlib.image.AxesImage at 0x1c06d359fd0>"
      ]
     },
     "execution_count": 81,
     "metadata": {},
     "output_type": "execute_result"
    },
    {
     "data": {
      "image/png": "[encoded data removed]",
      "text/plain": [
       "<Figure size 640x480 with 1 Axes>"
      ]
     },
     "metadata": {},
     "output_type": "display_data"
    }
   ],
   "source": [
    "plt.imshow(M['uz'][:, :, 0])"
   ]
  },
  {
   "cell_type": "code",
   "execution_count": null,
   "metadata": {},
   "outputs": [],
   "source": []
  },
  {
   "cell_type": "code",
   "execution_count": 40,
   "metadata": {},
   "outputs": [
    {
     "name": "stdout",
     "output_type": "stream",
     "text": [
      "dict_keys(['Ix', 'Iy', 'Iz', 'phi'])\n",
      "(256, 256, 256)\n"
     ]
    }
   ],
   "source": [
    "mat_data_name = os.path.join(data_root, \"analysis\", \"72_02_256\")\n",
    "E = mat73.loadmat(os.path.join(mat_data_name, \"72_02_256_elec.mat\"))\n",
    "print(E.keys())\n",
    "print(E['phi'].shape)"
   ]
  },
  {
   "cell_type": "code",
   "execution_count": 41,
   "metadata": {},
   "outputs": [
    {
     "data": {
      "text/plain": [
       "<matplotlib.image.AxesImage at 0x1c0693086d0>"
      ]
     },
     "execution_count": 41,
     "metadata": {},
     "output_type": "execute_result"
    },
    {
     "data": {
      "image/png": "[encoded data removed]",
      "text/plain": [
       "<Figure size 640x480 with 1 Axes>"
      ]
     },
     "metadata": {},
     "output_type": "display_data"
    }
   ],
   "source": [
    "plt.imshow(E['phi'][:, :, 0])"
   ]
  },
  {
   "cell_type": "code",
   "execution_count": 42,
   "metadata": {},
   "outputs": [
    {
     "data": {
      "text/plain": [
       "<matplotlib.image.AxesImage at 0x1c0693bbaf0>"
      ]
     },
     "execution_count": 42,
     "metadata": {},
     "output_type": "execute_result"
    },
    {
     "data": {
      "image/png": "[encoded data removed]",
      "text/plain": [
       "<Figure size 640x480 with 1 Axes>"
      ]
     },
     "metadata": {},
     "output_type": "display_data"
    }
   ],
   "source": [
    "plt.imshow(E['Iz'][:, :, 0])"
   ]
  },
  {
   "cell_type": "code",
   "execution_count": 3,
   "metadata": {},
   "outputs": [],
   "source": [
    "npy_data = np.load(os.path.join(data_root, \"data_model\", \"10_01_256_P_1_MPa_mfp.npy\"))"
   ]
  },
  {
   "cell_type": "code",
   "execution_count": 6,
   "metadata": {},
   "outputs": [],
   "source": [
    "data = npy_data[:, :, 0]"
   ]
  },
  {
   "cell_type": "code",
   "execution_count": 9,
   "metadata": {},
   "outputs": [
    {
     "data": {
      "text/plain": [
       "65536"
      ]
     },
     "execution_count": 9,
     "metadata": {},
     "output_type": "execute_result"
    }
   ],
   "source": [
    "(data < 1).sum()"
   ]
  }
 ],
 "metadata": {
  "anaconda-cloud": {},
  "kernelspec": {
   "display_name": "Python 3 (ipykernel)",
   "language": "python",
   "name": "python3"
  },
  "language_info": {
   "codemirror_mode": {
    "name": "ipython",
    "version": 3
   },
   "file_extension": ".py",
   "mimetype": "text/x-python",
   "name": "python",
   "nbconvert_exporter": "python",
   "pygments_lexer": "ipython3",
   "version": "3.8.13"
  }
 },
 "nbformat": 4,
 "nbformat_minor": 4
}
